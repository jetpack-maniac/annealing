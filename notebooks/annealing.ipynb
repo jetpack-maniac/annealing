{
 "cells": [
  {
   "cell_type": "code",
   "execution_count": null,
   "metadata": {},
   "outputs": [],
   "source": [
    "# PyAnnealing Execution Notebook\n",
    "\n",
    "# Local Modules\n",
    "from pyannealing.main import solve\n",
    "from pyannealing.render import draw_maps"
   ]
  },
  {
   "cell_type": "code",
   "execution_count": null,
   "metadata": {},
   "outputs": [],
   "source": [
    "# Computes and returns a Solver object with solutions and data\n",
    "point_count = 20\n",
    "map_size = 10\n",
    "\n",
    "solver = solve(point_count, map_size)"
   ]
  },
  {
   "cell_type": "code",
   "execution_count": null,
   "metadata": {},
   "outputs": [],
   "source": [
    "# Solution Graphics\n",
    "\"\"\"\n",
    "This draws the best, current, and worst solution the Solver has on record.\n",
    "\"\"\"\n",
    "draw_maps(solver)"
   ]
  }
 ],
 "metadata": {
  "kernelspec": {
   "display_name": "Python 3",
   "language": "python",
   "name": "python3"
  },
  "language_info": {
   "codemirror_mode": {
    "name": "ipython",
    "version": 3
   },
   "file_extension": ".py",
   "mimetype": "text/x-python",
   "name": "python",
   "nbconvert_exporter": "python",
   "pygments_lexer": "ipython3",
   "version": "3.11.6"
  },
  "orig_nbformat": 4
 },
 "nbformat": 4,
 "nbformat_minor": 2
}
